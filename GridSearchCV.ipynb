{
  "nbformat": 4,
  "nbformat_minor": 0,
  "metadata": {
    "colab": {
      "provenance": []
    },
    "kernelspec": {
      "name": "python3",
      "display_name": "Python 3"
    },
    "language_info": {
      "name": "python"
    }
  },
  "cells": [
    {
      "cell_type": "markdown",
      "source": [
        "#**Mushroom Classification** - GridSearchCV Hyperparameter Tuning"
      ],
      "metadata": {
        "id": "3MngYGmEb6-O"
      }
    },
    {
      "cell_type": "markdown",
      "source": [
        "###1. Import libraries"
      ],
      "metadata": {
        "id": "3rZBaSjkcOEH"
      }
    },
    {
      "cell_type": "code",
      "execution_count": null,
      "metadata": {
        "id": "NxkXd9VJTBar"
      },
      "outputs": [],
      "source": [
        "import pandas as pd\n",
        "import numpy as np\n",
        "import matplotlib.pyplot as plt\n",
        "from sklearn.preprocessing import LabelEncoder\n",
        "from sklearn.model_selection import train_test_split, GridSearchCV\n",
        "from sklearn.tree import DecisionTreeClassifier\n",
        "from sklearn.ensemble import RandomForestClassifier\n",
        "from sklearn.svm import SVC\n",
        "from sklearn.linear_model import SGDClassifier\n",
        "from sklearn.metrics import classification_report, confusion_matrix, accuracy_score"
      ]
    },
    {
      "cell_type": "markdown",
      "source": [
        "###2. Load dataset and handle missing data"
      ],
      "metadata": {
        "id": "vqfRSt0RcR_q"
      }
    },
    {
      "cell_type": "code",
      "source": [
        "# Load the dataset from the URL\n",
        "url = 'https://archive.ics.uci.edu/ml/machine-learning-databases/mushroom/agaricus-lepiota.data'\n",
        "df = pd.read_csv(url, header=None)\n",
        "\n",
        "# Replace '?' with NaN\n",
        "df.replace('?', np.nan, inplace=True)\n",
        "\n",
        "# Fill missing values with the mode\n",
        "df.iloc[:, 11].fillna(df.iloc[:, 11].mode()[0], inplace=True)"
      ],
      "metadata": {
        "colab": {
          "base_uri": "https://localhost:8080/"
        },
        "id": "XSOvqtyHTDSx",
        "outputId": "3be82b9b-283b-41d1-8c3a-7bced3652850"
      },
      "execution_count": null,
      "outputs": [
        {
          "output_type": "stream",
          "name": "stderr",
          "text": [
            "<ipython-input-16-7842fc50c2e7>:9: FutureWarning: A value is trying to be set on a copy of a DataFrame or Series through chained assignment using an inplace method.\n",
            "The behavior will change in pandas 3.0. This inplace method will never work because the intermediate object on which we are setting values always behaves as a copy.\n",
            "\n",
            "For example, when doing 'df[col].method(value, inplace=True)', try using 'df.method({col: value}, inplace=True)' or df[col] = df[col].method(value) instead, to perform the operation inplace on the original object.\n",
            "\n",
            "\n",
            "  df.iloc[:, 11].fillna(df.iloc[:, 11].mode()[0], inplace=True)\n"
          ]
        }
      ]
    },
    {
      "cell_type": "markdown",
      "source": [
        "###3. Encode categorical features"
      ],
      "metadata": {
        "id": "fQaa_HZecWTy"
      }
    },
    {
      "cell_type": "code",
      "source": [
        "# Encode all categorical features using LabelEncoder\n",
        "label_encoder = LabelEncoder()\n",
        "for column in df.columns:\n",
        "    df[column] = label_encoder.fit_transform(df[column].astype(str))\n",
        "\n",
        "# Separate features and target variable\n",
        "X = df.iloc[:, 1:]  # Features\n",
        "y = df.iloc[:, 0]   # Target"
      ],
      "metadata": {
        "id": "rlxy2SFQTFlY"
      },
      "execution_count": null,
      "outputs": []
    },
    {
      "cell_type": "markdown",
      "source": [
        "###4. Train-test split"
      ],
      "metadata": {
        "id": "4SU3ol0eccbp"
      }
    },
    {
      "cell_type": "code",
      "source": [
        "# Train-test split\n",
        "X_train, X_test, y_train, y_test = train_test_split(X, y, test_size=0.2, random_state=42)\n",
        "\n",
        "# Initialize a dictionary to store accuracies\n",
        "accuracy_results = {}"
      ],
      "metadata": {
        "id": "t4fKWmJ3VgRH"
      },
      "execution_count": null,
      "outputs": []
    },
    {
      "cell_type": "markdown",
      "source": [
        "###5. Decision Tree Classifier"
      ],
      "metadata": {
        "id": "RZbfgpoxcf59"
      }
    },
    {
      "cell_type": "code",
      "source": [
        "# Decision Tree without GridSearchCV\n",
        "dt_classifier = DecisionTreeClassifier(random_state=42)\n",
        "dt_classifier.fit(X_train, y_train)\n",
        "y_pred_dt_initial = dt_classifier.predict(X_test)\n",
        "initial_accuracy_dt = accuracy_score(y_test, y_pred_dt_initial)\n",
        "\n",
        "# Decision Tree with GridSearchCV\n",
        "param_grid_dt = {\n",
        "    'criterion': ['gini', 'entropy'],\n",
        "    'max_depth': [None, 10, 20, 30],\n",
        "    'min_samples_split': [2, 5, 10]\n",
        "}\n",
        "grid_search_dt = GridSearchCV(DecisionTreeClassifier(random_state=42), param_grid_dt, cv=5, scoring='accuracy')\n",
        "grid_search_dt.fit(X_train, y_train)\n",
        "y_pred_dt = grid_search_dt.best_estimator_.predict(X_test)\n",
        "best_accuracy_dt = accuracy_score(y_test, y_pred_dt)\n",
        "accuracy_results['Decision Tree'] = (initial_accuracy_dt, best_accuracy_dt)"
      ],
      "metadata": {
        "id": "CPWCkjHITJaN"
      },
      "execution_count": null,
      "outputs": []
    },
    {
      "cell_type": "markdown",
      "source": [
        "###6. Random Forest Classifier"
      ],
      "metadata": {
        "id": "RbBWhLFJcrsn"
      }
    },
    {
      "cell_type": "code",
      "source": [
        "# Random Forest without GridSearchCV\n",
        "rf_classifier = RandomForestClassifier(random_state=42)\n",
        "rf_classifier.fit(X_train, y_train)\n",
        "y_pred_rf_initial = rf_classifier.predict(X_test)\n",
        "initial_accuracy_rf = accuracy_score(y_test, y_pred_rf_initial)\n",
        "\n",
        "# Random Forest with GridSearchCV\n",
        "param_grid_rf = {\n",
        "    'n_estimators': [50, 100, 200],\n",
        "    'max_depth': [None, 10, 20],\n",
        "    'min_samples_split': [2, 5, 10]\n",
        "}\n",
        "grid_search_rf = GridSearchCV(RandomForestClassifier(random_state=42), param_grid_rf, cv=5, scoring='accuracy')\n",
        "grid_search_rf.fit(X_train, y_train)\n",
        "y_pred_rf = grid_search_rf.best_estimator_.predict(X_test)\n",
        "best_accuracy_rf = accuracy_score(y_test, y_pred_rf)\n",
        "accuracy_results['Random Forest'] = (initial_accuracy_rf, best_accuracy_rf)"
      ],
      "metadata": {
        "id": "Jc3z_B6iTMCy"
      },
      "execution_count": null,
      "outputs": []
    },
    {
      "cell_type": "markdown",
      "source": [
        "###7. SVM Classifier"
      ],
      "metadata": {
        "id": "rWvKj9B5cvO5"
      }
    },
    {
      "cell_type": "code",
      "source": [
        "# SVM without GridSearchCV\n",
        "svm_classifier = SVC(random_state=42)\n",
        "svm_classifier.fit(X_train, y_train)\n",
        "y_pred_svm_initial = svm_classifier.predict(X_test)\n",
        "initial_accuracy_svm = accuracy_score(y_test, y_pred_svm_initial)\n",
        "\n",
        "# SVM with GridSearchCV\n",
        "param_grid_svm = {\n",
        "    'C': [0.1, 1, 10],\n",
        "    'kernel': ['linear', 'rbf', 'poly'],\n",
        "    'gamma': ['scale', 'auto']\n",
        "}\n",
        "grid_search_svm = GridSearchCV(SVC(random_state=42), param_grid_svm, cv=5, scoring='accuracy')\n",
        "grid_search_svm.fit(X_train, y_train)\n",
        "y_pred_svm = grid_search_svm.best_estimator_.predict(X_test)\n",
        "best_accuracy_svm = accuracy_score(y_test, y_pred_svm)\n",
        "accuracy_results['SVM'] = (initial_accuracy_svm, best_accuracy_svm)"
      ],
      "metadata": {
        "id": "BbySJ95fTOiF"
      },
      "execution_count": null,
      "outputs": []
    },
    {
      "cell_type": "markdown",
      "source": [
        "###8. SGD Classifier"
      ],
      "metadata": {
        "id": "qdxN6MZ3c0DE"
      }
    },
    {
      "cell_type": "code",
      "source": [
        "# SGD without GridSearchCV\n",
        "sgd_classifier = SGDClassifier(random_state=42)\n",
        "sgd_classifier.fit(X_train, y_train)\n",
        "y_pred_sgd_initial = sgd_classifier.predict(X_test)\n",
        "initial_accuracy_sgd = accuracy_score(y_test, y_pred_sgd_initial)\n",
        "\n",
        "# SGD with GridSearchCV\n",
        "param_grid_sgd = {\n",
        "    'loss': ['hinge', 'log', 'modified_huber'],\n",
        "    'penalty': ['l2', 'l1', 'elasticnet'],\n",
        "    'alpha': [0.0001, 0.001, 0.01]\n",
        "}\n",
        "grid_search_sgd = GridSearchCV(SGDClassifier(random_state=42), param_grid_sgd, cv=5, scoring='accuracy')\n",
        "grid_search_sgd.fit(X_train, y_train)\n",
        "y_pred_sgd = grid_search_sgd.best_estimator_.predict(X_test)\n",
        "best_accuracy_sgd = accuracy_score(y_test, y_pred_sgd)\n",
        "accuracy_results['SGD'] = (initial_accuracy_sgd, best_accuracy_sgd)"
      ],
      "metadata": {
        "colab": {
          "base_uri": "https://localhost:8080/"
        },
        "id": "iRxeNk5JTS6m",
        "outputId": "0a665b68-f58d-4209-aa9f-ae5f4679604d"
      },
      "execution_count": null,
      "outputs": [
        {
          "output_type": "stream",
          "name": "stderr",
          "text": [
            "/usr/local/lib/python3.11/dist-packages/sklearn/model_selection/_validation.py:528: FitFailedWarning: \n",
            "45 fits failed out of a total of 135.\n",
            "The score on these train-test partitions for these parameters will be set to nan.\n",
            "If these failures are not expected, you can try to debug them by setting error_score='raise'.\n",
            "\n",
            "Below are more details about the failures:\n",
            "--------------------------------------------------------------------------------\n",
            "45 fits failed with the following error:\n",
            "Traceback (most recent call last):\n",
            "  File \"/usr/local/lib/python3.11/dist-packages/sklearn/model_selection/_validation.py\", line 866, in _fit_and_score\n",
            "    estimator.fit(X_train, y_train, **fit_params)\n",
            "  File \"/usr/local/lib/python3.11/dist-packages/sklearn/base.py\", line 1382, in wrapper\n",
            "    estimator._validate_params()\n",
            "  File \"/usr/local/lib/python3.11/dist-packages/sklearn/base.py\", line 436, in _validate_params\n",
            "    validate_parameter_constraints(\n",
            "  File \"/usr/local/lib/python3.11/dist-packages/sklearn/utils/_param_validation.py\", line 98, in validate_parameter_constraints\n",
            "    raise InvalidParameterError(\n",
            "sklearn.utils._param_validation.InvalidParameterError: The 'loss' parameter of SGDClassifier must be a str among {'epsilon_insensitive', 'log_loss', 'squared_error', 'modified_huber', 'huber', 'squared_hinge', 'squared_epsilon_insensitive', 'hinge', 'perceptron'}. Got 'log' instead.\n",
            "\n",
            "  warnings.warn(some_fits_failed_message, FitFailedWarning)\n",
            "/usr/local/lib/python3.11/dist-packages/sklearn/model_selection/_search.py:1108: UserWarning: One or more of the test scores are non-finite: [0.92766708 0.96660958 0.91675549        nan        nan        nan\n",
            " 0.94522651 0.96491787 0.93461006 0.95860923 0.96784106 0.94814816\n",
            "        nan        nan        nan 0.95676378 0.95984035 0.94260023\n",
            " 0.9478381  0.95399372 0.94753041        nan        nan        nan\n",
            " 0.94337301 0.94983834 0.94783715]\n",
            "  warnings.warn(\n"
          ]
        }
      ]
    },
    {
      "cell_type": "markdown",
      "source": [
        "###9. Print all accuracies"
      ],
      "metadata": {
        "id": "MBIiBXYFc335"
      }
    },
    {
      "cell_type": "code",
      "source": [
        "# Print accuracy results\n",
        "print(\"\\nModel Accuracies (Before and After GridSearchCV):\")\n",
        "for model, (initial, best) in accuracy_results.items():\n",
        "    print(f\"{model}: Initial Accuracy = {initial:.4f}, Best Accuracy = {best:.4f}\")"
      ],
      "metadata": {
        "colab": {
          "base_uri": "https://localhost:8080/"
        },
        "id": "gwHSzF7PTV0f",
        "outputId": "6543faf6-08a9-49f8-abb2-1db34bef8071"
      },
      "execution_count": null,
      "outputs": [
        {
          "output_type": "stream",
          "name": "stdout",
          "text": [
            "\n",
            "Model Accuracies (Before and After GridSearchCV):\n",
            "Decision Tree: Initial Accuracy = 1.0000, Best Accuracy = 1.0000\n",
            "Random Forest: Initial Accuracy = 1.0000, Best Accuracy = 1.0000\n",
            "SVM: Initial Accuracy = 0.9914, Best Accuracy = 1.0000\n",
            "SGD: Initial Accuracy = 0.9637, Best Accuracy = 0.9692\n"
          ]
        }
      ]
    },
    {
      "cell_type": "markdown",
      "source": [
        "###10. Check for overfitting"
      ],
      "metadata": {
        "id": "OIk-NXuRc7kf"
      }
    },
    {
      "cell_type": "code",
      "source": [
        "# Check for overfitting\n",
        "print(\"\\nOverfitting Analysis:\")\n",
        "for model, (initial, best) in accuracy_results.items():\n",
        "    if best - initial > 0.05:  # Arbitrary threshold to detect significant improvement\n",
        "        print(f\"{model}: Significant improvement detected. Initial = {initial:.4f}, Best = {best:.4f}\")\n",
        "    elif initial > best:\n",
        "        print(f\"{model}: Potential overfitting detected. Initial = {initial:.4f}, Best = {best:.4f}\")\n",
        "    else:\n",
        "        print(f\"{model}: No significant overfitting. Initial = {initial:.4f}, Best = {best:.4f}\")"
      ],
      "metadata": {
        "colab": {
          "base_uri": "https://localhost:8080/"
        },
        "id": "ng43Ha5uVvSC",
        "outputId": "7cd7c7c0-5fe5-43f2-d912-6f2745505948"
      },
      "execution_count": null,
      "outputs": [
        {
          "output_type": "stream",
          "name": "stdout",
          "text": [
            "\n",
            "Overfitting Analysis:\n",
            "Decision Tree: No significant overfitting. Initial = 1.0000, Best = 1.0000\n",
            "Random Forest: No significant overfitting. Initial = 1.0000, Best = 1.0000\n",
            "SVM: No significant overfitting. Initial = 0.9914, Best = 1.0000\n",
            "SGD: No significant overfitting. Initial = 0.9637, Best = 0.9692\n"
          ]
        }
      ]
    },
    {
      "cell_type": "markdown",
      "source": [
        "###11. Visualization of accuracy results"
      ],
      "metadata": {
        "id": "tEnd2CuZdKLV"
      }
    },
    {
      "cell_type": "code",
      "source": [
        "# Visualization of accuracy results\n",
        "models = list(accuracy_results.keys())\n",
        "initial_accuracies = [accuracy_results[model][0] for model in models]\n",
        "best_accuracies = [accuracy_results[model][1] for model in models]\n",
        "\n",
        "x = np.arange(len(models))\n",
        "width = 0.35\n",
        "\n",
        "plt.figure(figsize=(10, 6))\n",
        "plt.bar(x - width/2, initial_accuracies, width, label='Initial Accuracy')\n",
        "plt.bar(x + width/2, best_accuracies, width, label='Best Accuracy (GridSearchCV)')\n",
        "\n",
        "plt.xlabel('Models')\n",
        "plt.ylabel('Accuracy')\n",
        "plt.title('Accuracy Before and After GridSearchCV')\n",
        "plt.xticks(x, models, rotation=45)\n",
        "plt.legend()\n",
        "plt.tight_layout()\n",
        "plt.show()"
      ],
      "metadata": {
        "colab": {
          "base_uri": "https://localhost:8080/",
          "height": 554
        },
        "id": "rlmosMSYVxgT",
        "outputId": "24658041-b3d6-4a4e-d7f9-5acb3d2a1394"
      },
      "execution_count": null,
      "outputs": [
        {
          "output_type": "display_data",
          "data": {
            "text/plain": [
              "<Figure size 1000x600 with 1 Axes>"
            ],
            "image/png": "[encoded data removed]"
          },
          "metadata": {}
        }
      ]
    }
  ]
}